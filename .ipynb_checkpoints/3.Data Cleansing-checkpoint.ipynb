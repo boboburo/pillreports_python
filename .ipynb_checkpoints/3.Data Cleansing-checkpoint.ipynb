{
 "cells": [
  {
   "cell_type": "markdown",
   "metadata": {},
   "source": [
    "<h1>3. Data shaping and cleasning</h1>\n",
    "<HR WIDTH=\"100%\" size=\"6\">\n",
    "\n",
    "<table align='left'>\n",
    "  <tr>\n",
    "    <td><b>Step</b></td>\n",
    "    <td><b>Description</b></td>\n",
    "  </tr>\n",
    "  <tr>\n",
    "  <td><b>3.1 </b>Read in Data</td>\n",
    "  <td>Connect to the MongoDB and read in the data, convert to a pandas DataFrame.</td>\n",
    "  </tr>\n",
    "  <tr>  \n",
    "  <td><b>3.2 </b>Rename the columns</td>\n",
    "    <td>Remove trailing white spaces in column names. (<i>_id</i> column is renamed to <i>mongo_id)</i></td>\n",
    "  </tr>\n",
    "  <tr>  \n",
    "  <td><b>3.3 </b> Clean up date formats</td>\n",
    "    <td>Standardise the date formats of columns holding date values. Allows for easier calculations. <b>dateime</b> module is used to convert dates.</td>\n",
    "  </tr>\n",
    "  <tr> \n",
    "  <td><b>3.4 </b> Clean Geo Coding</td>\n",
    "      <td>The column <i>State/Province</i> contains geographic data about the location of the User submitting a report. Data is cleaned and a new hierarchical column, <i>Country</i> is created.</td>\n",
    "  </tr>\n",
    "  <tr> \n",
    "  <td><b>3.5 </b>Add comment count</td>\n",
    "    <td>Read in the comments from MongoDB and create a count of comments per Report. Counts are calculated using <b>collections</b> module. </td>\n",
    "  </tr>\n",
    "  <tr> \n",
    "  <td><b>3.6 </b>Determine the language of report</td>\n",
    "  <td>The <i>User Report:</i> column is analysed with the <b>langdetect</b> library to determine the lanuguage and associated probabilty.</td>\n",
    "  </tr>\n",
    "  <tr> \n",
    "  <td><b>3.7 </b> Remove trailing mm</td>\n",
    "    <td><p><i>Height:</i> and <i>Width</i> columns are strings with a trailing <i>mm</i>. Remove <i>mm</i> with regular expression using <b>re</b> module.</td>\n",
    "  </tr>\n",
    "    <tr> \n",
    "    <td><b>3.8 </b>Clean up <i>Report Quality Rating:</i></td>\n",
    "    <td><p><i>Report Quality Rating:</i> can be in the format <i> (3.35 stars, 3 votes) </i> or <i>not rated</i>. Clean up using regular expressions.</td>\n",
    "  </tr>\n",
    "   <tr> \n",
    "  <td><b>3.9 </b>Categorise <i>Suspected Contents:</i></td>\n",
    "    <td><p><i>Suspected Contents:</i> contains a various combinations of suspect chemcials. Categorise these into five categories in a new column <i>SC Category:</i></p></td>\n",
    "  </tr>\n",
    "   <tr> \n",
    "   <td><b>3.10 </b>Clean up <i>Submitted By:</i></td>\n",
    "    <td><p><i>Submitted By:</i> contains information about who submitted a report, including the day the person joined the website. It also includes information about what users are Admin/Moderators. Information is split into three new columns <i>'User Admin'</i> with boolean value, <i>Member Name:</i> string, <i>Member Since:</i> date value.</td>\n",
    "  </tr>\n",
    "   <tr> \n",
    "  <td><b>3.11 </b>Re-order columns</td>\n",
    "    <td><p>Columns are re-order so that columns contain data of similar types are beside each other. This can facilitate quicker data exploration.</td>\n",
    "  </tr>\n",
    "  <tr> \n",
    "  <td><b>3.12 </b>Strip White Space</td>\n",
    "  <td><p>The values in the binary columns <i>Warning:</i>, <i>Consumed:</i> and <i>Tested:</i> columns contain leading and trailing white space. This is removed. </p></td>\n",
    "  </tr>\n",
    "  <tr> \n",
    "  <td><b>3.13 </b>Save Cleaned Data</td>\n",
    "  <td><p>Datframe is save to a .csv file. Note the <b>datetime</b> information in date columns is lost in the .csv. It will have to be recoded when the .csv file is loaded. It is in a format that makes this straightforward. </p></td>\n",
    "  </tr>\n",
    "    </table><br clear=\"left\"/>\n",
    "\n",
    "  <table align='left'>\n",
    "   <tr>\n",
    "   <th colspan=\"4\"><p style=\"text-align: center;\">Packages Used</p></th>\n",
    "  </tr>\n",
    "  <tr style=\"background-color:azure\">\n",
    "    <td>Package</td>\n",
    "    <td>Pre-installed with Anaconda</td>\n",
    "    <td>Install instruction from command line</td>\n",
    "     <td>Documentation Link</td>\n",
    "    </tr>\n",
    "   <tr>\n",
    "    <td>pandas</td>\n",
    "    <td><p style=\"text-align: center;\">&#10004;</p></td>\n",
    "    <td></td>\n",
    "    <td>http://pandas.pydata.org/</td>\n",
    "   </tr>\n",
    "   <tr>\n",
    "    <td>pymongo</td>\n",
    "    <td><p style=\"text-align: center;\">&#x2718;</p></td>\n",
    "    <td>pip install pymongo</td>\n",
    "    <td>http://api.mongodb.org/python/current/</td>\n",
    "    </tr>\n",
    "    <tr>\n",
    "    <td>datetime</td>\n",
    "    <td colspan=\"2\"> <p> Part of the Python Standard Library</p></td>\n",
    "    <td>https://docs.python.org/2/library/datetime.html</td>\n",
    "    </tr>\n",
    "    <tr>\n",
    "    <td>collections</td>\n",
    "    <td colspan=\"2\"> <p> Part of the Python Standard Library</p></td>\n",
    "     <td>https://docs.python.org/2/library/collections.html</td>\n",
    "    </tr>\n",
    "    <tr>\n",
    "    <td>langdetect</td>\n",
    "    <td><p style=\"text-align: center;\">&#x2718;</p></td>\n",
    "    <td>pip install langdetect</td>\n",
    "     <td>https://pypi.python.org/pypi/langdetect/1.0.1</td>\n",
    "    </tr>\n",
    "    <tr>\n",
    "    <td>re</td>\n",
    "    <td colspan=\"2\"> <p> Part of the Python Standard Library</p></td>\n",
    "    <td>https://docs.python.org/2/library/re.html</td>\n",
    "    </tr>\n",
    "</table><br clear=\"left\"/>\n",
    "\n",
    "\n",
    "\n",
    "\n",
    "\n",
    "\n",
    "<h3>Prerequisites</h3>\n",
    "<p><font size=\"3\" color=\"red\">Mongo database must be running on local machine.</font></p>\n",
    "\n",
    "<HR WIDTH=\"100%\" size=\"6\">\n"
   ]
  },
  {
   "cell_type": "markdown",
   "metadata": {},
   "source": [
    "### 3.1 Read in the data from mongoDB to pandasDataFrame  <p><font size=\"2\" color=\"red\">Database name <font size= \"2\" color=\"black\">db = conn.pillreports_ddMonyy </font> needs to be altered according to the date you scrape data to your local machine.</font></p>"
   ]
  },
  {
   "cell_type": "code",
   "execution_count": 1,
   "metadata": {
    "collapsed": false
   },
   "outputs": [
    {
     "name": "stdout",
     "output_type": "stream",
     "text": [
      "51\n"
     ]
    }
   ],
   "source": [
    "import pandas as pd  #For python data frame\n",
    "import pymongo #For mongoDB\n",
    "\n",
    "#Create connection to the MongoDB. Note the MongoDB must be running.\n",
    "conn=pymongo.MongoClient('localhost',27017)\n",
    "db = conn.pillreports_17Nov14     #This database needs to be changed accoridng to date of scrape\n",
    "print db.reports.count()  #Print out the number of records in the database, visual check on connection.\n",
    "\n",
    "df = pd.DataFrame(list(db.reports.find())) #Copy the reports to the dataframe and close the connection\n",
    "conn.close()"
   ]
  },
  {
   "cell_type": "markdown",
   "metadata": {},
   "source": [
    "### 3.2 Rename Columns"
   ]
  },
  {
   "cell_type": "code",
   "execution_count": 45,
   "metadata": {
    "collapsed": false
   },
   "outputs": [
    {
     "data": {
      "text/html": [
       "<div style=\"max-height:1000px;max-width:1500px;overflow:auto;\">\n",
       "<table border=\"1\" class=\"dataframe\">\n",
       "  <thead>\n",
       "    <tr style=\"text-align: right;\">\n",
       "      <th></th>\n",
       "      <th>New</th>\n",
       "      <th>Original</th>\n",
       "      <th>Len Original</th>\n",
       "      <th>Len New</th>\n",
       "    </tr>\n",
       "  </thead>\n",
       "  <tbody>\n",
       "    <tr>\n",
       "      <th>0</th>\n",
       "      <td>         Colour:</td>\n",
       "      <td>         Colour: </td>\n",
       "      <td>  8</td>\n",
       "      <td>  7</td>\n",
       "    </tr>\n",
       "    <tr>\n",
       "      <th>1</th>\n",
       "      <td>       Consumed:</td>\n",
       "      <td>       Consumed: </td>\n",
       "      <td> 10</td>\n",
       "      <td>  9</td>\n",
       "    </tr>\n",
       "    <tr>\n",
       "      <th>2</th>\n",
       "      <td> Date Submitted:</td>\n",
       "      <td> Date Submitted: </td>\n",
       "      <td> 16</td>\n",
       "      <td> 15</td>\n",
       "    </tr>\n",
       "    <tr>\n",
       "      <th>3</th>\n",
       "      <td>    Description:</td>\n",
       "      <td>    Description: </td>\n",
       "      <td> 13</td>\n",
       "      <td> 12</td>\n",
       "    </tr>\n",
       "    <tr>\n",
       "      <th>4</th>\n",
       "      <td>          Edges:</td>\n",
       "      <td>          Edges: </td>\n",
       "      <td>  7</td>\n",
       "      <td>  6</td>\n",
       "    </tr>\n",
       "  </tbody>\n",
       "</table>\n",
       "</div>"
      ],
      "text/plain": [
       "               New          Original  Len Original  Len New\n",
       "0          Colour:          Colour:              8        7\n",
       "1        Consumed:        Consumed:             10        9\n",
       "2  Date Submitted:  Date Submitted:             16       15\n",
       "3     Description:     Description:             13       12\n",
       "4           Edges:           Edges:              7        6"
      ]
     },
     "execution_count": 45,
     "metadata": {},
     "output_type": "execute_result"
    }
   ],
   "source": [
    "#Many of the column names have trailing white space: \n",
    "\n",
    "#Capture old column names\n",
    "originalNames=df.columns\n",
    "\n",
    "#For loop to remove trailing space.\n",
    "for i in df.columns:\n",
    "    if (i[len(i)-1:len(i)]==\" \"):\n",
    "        df = df.rename(columns={i: i[0:len(i)-1]})\n",
    "        \n",
    "        \n",
    "#Rename the _id column\n",
    "df = df.rename(columns={'_id': 'mongo_id:'})\n",
    "\n",
    "#capture new column names\n",
    "newNames=df.columns\n",
    "\n",
    "#View some of the changes\n",
    "tempDF = pd.DataFrame({'New':newNames,'Original':originalNames})\n",
    "tempDF['Len Original']=tempDF['Original'].apply(lambda d: len(d))\n",
    "tempDF['Len New']=tempDF['New'].apply(lambda d: len(d))\n",
    "tempDF.head(n=5)"
   ]
  },
  {
   "cell_type": "code",
   "execution_count": 46,
   "metadata": {
    "collapsed": false
   },
   "outputs": [],
   "source": [
    "#delete the objects\n",
    "del originalNames\n",
    "del newNames\n",
    "del tempDF"
   ]
  },
  {
   "cell_type": "markdown",
   "metadata": {},
   "source": [
    "<h3>3.3 Clean up date format</h3>"
   ]
  },
  {
   "cell_type": "code",
   "execution_count": 47,
   "metadata": {
    "collapsed": false
   },
   "outputs": [],
   "source": [
    "from datetime import datetime\n",
    "\n",
    "#dates are in the format     u'November 9, 2014, 2:05 pm GMT'\n",
    "#use strptime to represent as ; Timestamp('2014-11-09 14:05:00')\n",
    "\n",
    "df['Date Submitted:'] = df['Date Submitted:'].apply(lambda d: datetime.strptime(d, \"%B %d, %Y, %I:%M %p GMT\")\n",
    "                                                    if not pd.isnull(d) else d )\n",
    "df['Last Updated:'] = df['Last Updated:'].apply(lambda d: datetime.strptime(d, \"%B %d, %Y, %I:%M %p GMT\")\n",
    "                                                    if not pd.isnull(d) else d )"
   ]
  },
  {
   "cell_type": "markdown",
   "metadata": {},
   "source": [
    "<h3>3.4 Clean Geo Coding </h3> <br>\n",
    "\n",
    "<p>The column `State/Province` contains information about the geographic location of the report. The format is not standard and the data is particularly dirty. Of the 5001 records that were downloaded, there were 1,629 different entries across this field. The value <b>Melbourne</b> was the highest count with 92 recorded entries.</p>  \n",
    "\n",
    "\n",
    "<p>The unique 1,629 values were fed into [Google Open Refine](http://openrefine.org/). This is an application that can be downloaded to your desktop for data cleasning. Open Refine was used to cluster the entries based on their similarity.  Clustering reduced the number of unique entries to 1,158. </p>\n",
    "\n",
    "<p>The 1,158 entries were then manually coded in Excel to their respective country. This reduced some granualarity as entries for the USA were all combined. Some examples are presented below.</p>\n",
    "\n",
    "<table align='left'>\n",
    "  <tr>\n",
    "    <td><b>Refined Cluster</b></td>\n",
    "    <td><b>Row Count</b></td>\n",
    "    <td><b>Country (manual)</b></td>\n",
    "  </tr>\n",
    "  <tr>\n",
    "    <td>MELBOURNE</td>\n",
    "    <td>107</td>\n",
    "    <td>Australia</td>\n",
    "  </tr>\n",
    "  <tr>  \n",
    "    <td>Chicago</td>\n",
    "    <td>93</td>\n",
    "    <td>USA</td>\n",
    "  </tr>\n",
    "  <tr> \n",
    "      <td>CALIFORNIA</td>\n",
    "    <td>91</td>\n",
    "    <td>USA</td>\n",
    "  </tr>\n",
    "  <tr> \n",
    "    <td>...</td>\n",
    "    <td>...</td>\n",
    "    <td>...</td>\n",
    "  </tr>\n",
    "  <tr> \n",
    "    <td>NSW - Sydney</td>\n",
    "    <td>60</td>\n",
    "    <td>Australia</td>\n",
    "  </tr>\n",
    "  <tr> \n",
    "    <td>...</td>\n",
    "    <td>...</td>\n",
    "    <td>...</td>\n",
    "  </tr>\n",
    "  <tr> \n",
    "    <td>So-Cal</td>\n",
    "    <td>55</td>\n",
    "    <td>USA</td>\n",
    "  </tr>\n",
    "  \n",
    "  </table>\n",
    "\n"
   ]
  },
  {
   "cell_type": "code",
   "execution_count": 48,
   "metadata": {
    "collapsed": false
   },
   "outputs": [],
   "source": [
    "#Read in the excel file \n",
    "readfile='GeoClean/Geo_Clean.xlsx'\n",
    "geoFile = pd.ExcelFile(readfile)\n",
    "\n",
    "#Choose the correct sheet. \n",
    "cleanedStates=geoFile.parse(\"CountryCodes\")\n",
    "\n",
    "#The CountryCodes are in order of the DataFrame and can be appended without matching.\n",
    "df['Country:']=cleanedStates['MCC']\n",
    "\n",
    "#remove cleanedStates\n",
    "del cleanedStates"
   ]
  },
  {
   "cell_type": "markdown",
   "metadata": {},
   "source": [
    "<h3>3.5 Add comment count</h3>\n",
    "\n",
    "<p>Comments are stored in a sepearte mongoDB collection <i>\"comments\"</i>. Connect to MongoDB and read in comments collecton. Each comment has associated <i>Report ID:</i> For each unqiue <i>Report ID:</i> get a count. This is the number of associated comments. Merge this value to the data frame. </p>"
   ]
  },
  {
   "cell_type": "code",
   "execution_count": 49,
   "metadata": {
    "collapsed": false
   },
   "outputs": [
    {
     "name": "stdout",
     "output_type": "stream",
     "text": [
      "52967\n"
     ]
    }
   ],
   "source": [
    "#Connect to the mongoDB and read in comments. \n",
    "\n",
    "conn=pymongo.MongoClient('localhost',27017)\n",
    "\n",
    "#db = conn.pillreports_17Nov14\n",
    "db=conn.pillreports_17Nov14\n",
    "#Visual check to ensure connection created correctly\n",
    "print db.comments.count()\n",
    "\n",
    "df_comments = pd.DataFrame(list(db.comments.find()))\n",
    "#Close the connection\n",
    "conn.close()\n"
   ]
  },
  {
   "cell_type": "code",
   "execution_count": 50,
   "metadata": {
    "collapsed": false
   },
   "outputs": [
    {
     "data": {
      "text/plain": [
       "0     1\n",
       "1   NaN\n",
       "2     3\n",
       "3     1\n",
       "4     7\n",
       "Name: Total Comments:, dtype: float64"
      ]
     },
     "execution_count": 50,
     "metadata": {},
     "output_type": "execute_result"
    }
   ],
   "source": [
    "#Using the counter from the collections module create a dictionary with ID and count\n",
    "import collections\n",
    "cnt = collections.Counter()\n",
    "\n",
    "#Loop through the dataFrame and create count.\n",
    "#Note the trailing white space in \"Report ID: '\n",
    "for number in df_comments['Report ID:  ']:\n",
    "    cnt[number] += 1\n",
    "\n",
    "#Convert Counter() to a data frame.\n",
    "totalComments=pd.DataFrame(cnt.items(),columns={\"Report ID:\",\"Total Comments:\"})\n",
    "\n",
    "\n",
    "#Merge the data frame with totalComments with \"ID:\" and \"Report ID:\" as the keys. \n",
    "df=pd.merge(df, totalComments, how='left', left_on=\"ID:\", right_on=\"Report ID:\",\n",
    "      left_index=False, right_index=False, \n",
    "      suffixes=('_x', '_y'), copy=True)\n",
    "\n",
    "#Drop \"Report ID:\" from the data frame as this is duplicate of \"ID:\" column. \n",
    "df = df.drop(\"Report ID:\", 1)\n",
    "\n",
    "#remove the comments data frame\n",
    "del totalComments\n",
    "del cnt\n",
    "\n",
    "#Visual check to see if column has been added\n",
    "df['Total Comments:'].head(n=5)"
   ]
  },
  {
   "cell_type": "markdown",
   "metadata": {},
   "source": [
    "<h3>3.6 Determine Language of User Report</h3>\n",
    "\n",
    "<p>Based on the <i>User Report:</i> column determine the language of the report and the accuracy of the prediction using the <b>langdetect</b> library. Only <i>User Report:</i> with greater than 100 characters analysed."
   ]
  },
  {
   "cell_type": "code",
   "execution_count": 51,
   "metadata": {
    "collapsed": false
   },
   "outputs": [],
   "source": [
    "from langdetect import detect,detect_langs\n",
    "\n",
    "#Calculate string length of User Report and Description\n",
    "df['UR Length:']=df['User Report:'].apply(lambda d: len(d) if not pd.isnull(d) else 0)\n",
    "df['Desc Length:']=df['Description:'].apply(lambda d: len(d) if not pd.isnull(d) else 0)\n",
    "\n",
    "#Calculate the language of the User Report if greater than 100 characters.\n",
    "df['Language:'] = df['User Report:'].apply(lambda d: detect(d) if not pd.isnull(d) and len(d) > 100 else \"Unknown\")\n",
    "\n",
    "#detect langs returns list all possible languages and associated probabilities order high to low\n",
    "#Example [en:0.75,fr:0.25]\n",
    "#Select the first item in the list. \n",
    "\n",
    "df['Language Percentage:'] = df['User Report:'].apply(lambda d: detect_langs(d)[0] if not pd.isnull(d) and len(d) > 100 else \"Unknown\")\n",
    "\n",
    "#split the list based on \":\". \n",
    "temp_percent = df['Language Percentage:'].apply(lambda x: pd.Series(str(x).split(':')))\n",
    "df['Language Percentage:']=temp_percent[1]\n",
    "\n",
    "#Values are strings, convert to floats. \n",
    "df['Language Percentage:'] = df['Language Percentage:'].apply(lambda d: float(d)  if isinstance(d,basestring) else d )\n",
    "\n",
    "#Clean Up\n",
    "del(temp_percent)"
   ]
  },
  {
   "cell_type": "markdown",
   "metadata": {},
   "source": [
    "<h3>3.7 Remove the trailing <i>mm</i></h3> \n",
    "\n",
    "<p><i>Height:</i> and <i>Width</i> columns are strings with a trailing <i>mm</i>. Remove <i>mm</i> with regular expression and convert type from string to float.</p>"
   ]
  },
  {
   "cell_type": "code",
   "execution_count": 52,
   "metadata": {
    "collapsed": false
   },
   "outputs": [],
   "source": [
    "import re\n",
    "\n",
    "#Regular expression to select only digits and \".\" from a string.\n",
    "non_decimal = re.compile(r'[^\\d.]+')\n",
    "\n",
    "#Apply regular expression\n",
    "df['Height:'] = df['Height:'].apply(lambda d: non_decimal.sub('',d) if not pd.isnull(d) else d)\n",
    "df['Width:'] = df['Width:'].apply(lambda d: non_decimal.sub('',d) if not pd.isnull(d) else d)\n",
    "\n",
    "#Convert from type string to type float.\n",
    "df['Height:'] = df['Height:'].apply(lambda d: float(d)  if isinstance(d,basestring) else d )\n",
    "df['Width:'] = df['Width:'].apply(lambda d: float(d)  if isinstance(d,basestring) else d )\n",
    "\n",
    "del(non_decimal)"
   ]
  },
  {
   "cell_type": "markdown",
   "metadata": {},
   "source": [
    "<h3>3.8 Clean up <i>Report Quality Rating:</i> column</h3>\n",
    "    \n",
    "<p><i>Report Quality Rating:</i> can be in the format <i> (3.35 stars, 3 votes) </i> or <i>not rated</i>. Where it is the later regular expression to seperate into two new columns <i>Report Stars:</i> and <i>Report Votes:</i></p>\n"
   ]
  },
  {
   "cell_type": "code",
   "execution_count": 53,
   "metadata": {
    "collapsed": false
   },
   "outputs": [],
   "source": [
    "#Regular expression to select only digits ;  \".\" ; \",\" from a string.\n",
    "non_decimal = re.compile(r'[^\\d.,]+')\n",
    "\n",
    "\n",
    "df['Report Stars:'] = df['Report Quality Rating:'].apply(lambda d: (non_decimal.sub('',d)).split(',')[0] if d != \" not rated \" else None )\n",
    "df['Report Votes:'] = df['Report Quality Rating:'].apply(lambda d: (non_decimal.sub('',d)).split(',')[1] if d != \" not rated \" else None )\n",
    "\n",
    "df['Report Stars:']=df['Report Stars:'].astype(float)\n",
    "df['Report Votes:']=df['Report Votes:'].astype(float)\n",
    "\n",
    "\n",
    "#Delete the column 'Report Quality Rating:' as the information is now duplicate\n",
    "df = df.drop('Report Quality Rating:', 1)\n",
    "\n",
    "del(non_decimal)\n"
   ]
  },
  {
   "cell_type": "markdown",
   "metadata": {},
   "source": [
    "<h3>3.9 Categorise <i>Suspected Contents:</i></h3>\n",
    "\n",
    "<p><i>Suspected Contents:</i> contains a various combinations of suspect chemcials. Categorise these in five categories in a new column <i>SC Category:</i>"
   ]
  },
  {
   "cell_type": "code",
   "execution_count": 54,
   "metadata": {
    "collapsed": false
   },
   "outputs": [
    {
     "data": {
      "text/html": [
       "<div style=\"max-height:1000px;max-width:1500px;overflow:auto;\">\n",
       "<table border=\"1\" class=\"dataframe\">\n",
       "  <thead>\n",
       "    <tr style=\"text-align: right;\">\n",
       "      <th></th>\n",
       "      <th>count</th>\n",
       "    </tr>\n",
       "    <tr>\n",
       "      <th>SC Category:</th>\n",
       "      <th></th>\n",
       "    </tr>\n",
       "  </thead>\n",
       "  <tbody>\n",
       "    <tr>\n",
       "      <th>amphet</th>\n",
       "      <td>  504</td>\n",
       "    </tr>\n",
       "    <tr>\n",
       "      <th>mdxx</th>\n",
       "      <td> 2859</td>\n",
       "    </tr>\n",
       "    <tr>\n",
       "      <th>other</th>\n",
       "      <td>  321</td>\n",
       "    </tr>\n",
       "    <tr>\n",
       "      <th>pip</th>\n",
       "      <td>  279</td>\n",
       "    </tr>\n",
       "    <tr>\n",
       "      <th>unknown</th>\n",
       "      <td> 1038</td>\n",
       "    </tr>\n",
       "  </tbody>\n",
       "</table>\n",
       "</div>"
      ],
      "text/plain": [
       "              count\n",
       "SC Category:       \n",
       "amphet          504\n",
       "mdxx           2859\n",
       "other           321\n",
       "pip             279\n",
       "unknown        1038"
      ]
     },
     "execution_count": 54,
     "metadata": {},
     "output_type": "execute_result"
    }
   ],
   "source": [
    "#4 Lists of common values in Suspected Contents:.\n",
    "amphet = [' Amphetamine',' Butylone',' MDxx and Amphetamine',' Methamphetamine',' Methylone']\n",
    "mdxx = [' MDA',' MDEA',' MDMA',' MDxx']\n",
    "pip = [' MDMA and Piperazine ',' Piperazine',' Piperazine + Another']\n",
    "unknown = [' 0 - please select the suspected chemical',' MDxx + Unknown',' Unknown']\n",
    "\n",
    "#Place value in SC Category to highlighted where SC Contents has other unlisted value. \n",
    "df['SC Category:']='other'\n",
    "\n",
    "\n",
    "###Note### Index a pandas data from\n",
    "#df.ix[] -- for a hybrid of integer position and label addressing \n",
    "#df.ix[23:100,'A']=999 ; maps 999 to rows 23:100 in column A\n",
    "\n",
    "df.ix[df['Suspected Contents:'].isin(amphet),'SC Category:'] = \"amphet\"\n",
    "df.ix[df['Suspected Contents:'].isin(mdxx),'SC Category:'] = \"mdxx\"\n",
    "df.ix[df['Suspected Contents:'].isin(pip),'SC Category:'] = \"pip\"\n",
    "df.ix[df['Suspected Contents:'].isin(unknown),'SC Category:'] = \"unknown\"\n",
    "\n",
    "#Clean Up\n",
    "del(amphet,mdxx,pip,unknown)\n",
    "\n",
    "#Print out count of rows based on 'SC Category:'\n",
    "df['ID:'].groupby(df['SC Category:']).agg(['count'])"
   ]
  },
  {
   "cell_type": "markdown",
   "metadata": {},
   "source": [
    "<h3>3.10 Clean up <i>Submitted By</i> column</h3>\n",
    "\n",
    "<p><i>Submiited By:'</i> contains the name of the user and the date user the first joined the website. It also contains entries from Admin/Moderator accounts. Split into three new columns illustrated with the example in the table</p>\n",
    "\n",
    "<table align='left'>\n",
    "   <tr>\n",
    "   <th colspan=\"3\"><p style=\"text-align: center;\">df['Submitted By:'][325]</p></th>\n",
    "  </tr>\n",
    "  <tr>\n",
    "   <td colspan=\"3\"><p style=\"text-align: center;\">u'ebitty7 (member since August 12, 2014)'</p></td>\n",
    "  </tr>\n",
    "  <tr>\n",
    "    <th>User Admin:</th>\n",
    "    <th>Member Name:</th>\n",
    "    <th>Member Since:</th>\n",
    "   </tr>\n",
    "   <tr>\n",
    "    <td>False</td>\n",
    "    <td>u'ebitty7'</td>\n",
    "    <td>u'August 12, 2014'</td>\n",
    "    </tr>\n",
    "    <tr>\n",
    "    <td></td>\n",
    "    <td></td>\n",
    "    <td>Timestamp('2014-08-12 00:00:00')</td>\n",
    "    </tr>\n",
    "    </table><br clear=\"left\"/>\n"
   ]
  },
  {
   "cell_type": "code",
   "execution_count": 55,
   "metadata": {
    "collapsed": false
   },
   "outputs": [],
   "source": [
    "#Some rows contain entries associated with an adminstrator/moderator. \n",
    "#Set to True if Submitted By: contains either administrator or moderator; otherwise False\n",
    "adminFilter = df['Submitted By:'].str.contains('administrator|moderator', case=False)\n",
    "\n",
    "#Add new column 'User Admin:' indicating if user is regular user or not.\n",
    "df.loc[adminFilter==False,'User Admin:'] = False\n",
    "df.loc[adminFilter==True,'User Admin:'] = True\n",
    "\n",
    "#Create new column Member Name: by splitting Submitted By: with ' ('\n",
    "df['Member Name:'] = df['Submitted By:'].apply(lambda d: d.split(' (')[0])\n",
    "\n",
    "\n",
    "#Regular expression to extract the date a member joined using regular expression\n",
    "extractDate=re.compile('(?<=member since )(.*)(?=\\))')\n",
    "\n",
    "#Create new column Member Since: \n",
    "#administrator/moderator rows do not contain a join date. Filter on these. \n",
    "###Note df.loc[] - for index label addressing.\n",
    "df.loc[adminFilter==False,'Member Since:']=df[adminFilter==False]['Submitted By:'].apply(lambda d: \n",
    "                                                                                         extractDate.search(d).group())\n",
    "\n",
    "#Fix up the dates\n",
    "df['Member Since:'] = df['Member Since:'].apply(lambda d: datetime.strptime(d, \"%B %d, %Y\")  if not pd.isnull(d) else d )\n",
    "\n",
    "#delete the column 'Submitted By:' as the information is now duplicate\n",
    "df = df.drop('Submitted By:', 1)\n",
    "\n",
    "#Clean Up\n",
    "del(adminFilter)"
   ]
  },
  {
   "cell_type": "markdown",
   "metadata": {},
   "source": [
    "<h3>3.11 Reorder columns based on the type of data.</h3>\n",
    "\n",
    "Re-ordering columns by data type can make it easier when doing data exploration."
   ]
  },
  {
   "cell_type": "code",
   "execution_count": 56,
   "metadata": {
    "collapsed": false
   },
   "outputs": [],
   "source": [
    "id_cols=['ID:','mongo_id:']\n",
    "\n",
    "text_cols=['Description:','User Report:','Texture:']\n",
    "\n",
    "multi_factor_cols=['Colour:','Edges:','Logo:','Name:','Shape:','State/Province:']\n",
    "\n",
    "numeric_cols=['Height:','Width:','Total Comments:','UR Length:','Desc Length:',\n",
    "              'Language Percentage:','Report Stars:','Report Votes:']\n",
    "\n",
    "date_cols=[ 'Date Submitted:','Last Updated:','Member Since:']\n",
    "\n",
    "factor_cols=['Mandelin Reagent:','Marquis Reagent:','Mecke Reagent:','Rating:','Robadope Reagent:'\n",
    "             ,'Simons Reagent:','Suspected Contents:','Country:','Language:',\n",
    "             'SC Category:','Member Name:','User Admin:']\n",
    "\n",
    "binary_cols=['Consumed:','Tested:','Warning:']\n",
    "\n",
    "\n",
    "df=df[id_cols+text_cols+multi_factor_cols+date_cols+numeric_cols+factor_cols+binary_cols]\n",
    "\n",
    "#Clean Up\n",
    "del(id_cols,text_cols,multi_factor_cols,numeric_cols,date_cols,factor_cols)\n"
   ]
  },
  {
   "cell_type": "markdown",
   "metadata": {},
   "source": [
    "<h3>3.12 Strip out any white </h3>\n",
    "\n",
    "<p>The binary columns contain leading and trailing white space. </p>"
   ]
  },
  {
   "cell_type": "code",
   "execution_count": 57,
   "metadata": {
    "collapsed": false
   },
   "outputs": [
    {
     "name": "stdout",
     "output_type": "stream",
     "text": [
      "Value:  yes  String Length: 5\n",
      "Value: yes String Length: 3\n"
     ]
    }
   ],
   "source": [
    "#Print out string length comparison \n",
    "i=25\n",
    "print \"Value:\",df['Warning:'][i],\"String Length:\",len(df['Warning:'][i])\n",
    "\n",
    "for x in binary_cols:\n",
    "    df[x]=df[x].map(lambda x: x.strip())\n",
    "\n",
    "print \"Value:\",df['Warning:'][i],\"String Length:\",len(df['Warning:'][i])    \n",
    "#Clean Up\n",
    "del(binary_cols)\n"
   ]
  },
  {
   "cell_type": "markdown",
   "metadata": {},
   "source": [
    "<h3>3.13 Save data</h3>\n"
   ]
  },
  {
   "cell_type": "code",
   "execution_count": 33,
   "metadata": {
    "collapsed": false
   },
   "outputs": [],
   "source": [
    "#Clean up some of the other columns See excel file for organisation\n",
    "df.to_csv(\"Data/prReports.csv\",encoding=\"utf-8\",index=False)"
   ]
  }
 ],
 "metadata": {
  "kernelspec": {
   "display_name": "Python 2",
   "language": "python",
   "name": "python2"
  },
  "language_info": {
   "codemirror_mode": {
    "name": "ipython",
    "version": 2
   },
   "file_extension": ".py",
   "mimetype": "text/x-python",
   "name": "python",
   "nbconvert_exporter": "python",
   "pygments_lexer": "ipython2",
   "version": "2.7.9"
  }
 },
 "nbformat": 4,
 "nbformat_minor": 0
}
