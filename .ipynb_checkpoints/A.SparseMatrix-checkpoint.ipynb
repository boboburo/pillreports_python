{
 "cells": [
  {
   "cell_type": "markdown",
   "metadata": {},
   "source": [
    "<h2>A. Sparse Matrix Explaination</h2>"
   ]
  },
  {
   "cell_type": "code",
   "execution_count": 1,
   "metadata": {
    "collapsed": false
   },
   "outputs": [],
   "source": [
    "import pandas as pd\n",
    "\n",
    "poem=\"\"\"Hey diddle diddle,\n",
    "        We are all on the fiddle,\n",
    "        And never get up until noon.\n",
    "        We only take cash,\n",
    "        Which we carefully stash,\n",
    "        And we work by the light of the moon.\"\"\"\n",
    "   \n",
    "#Split poem by \",\" or \".\". and save in dataFrame df\n",
    "#Use 're' package - regular expressions \n",
    "#Include newline \\n splitting as will remove\n",
    "import re\n",
    "lines=re.split(',\\n|.\\n',poem)\n",
    "df=pd.DataFrame({\"Lines\":lines})   "
   ]
  },
  {
   "cell_type": "code",
   "execution_count": 2,
   "metadata": {
    "collapsed": false
   },
   "outputs": [
    {
     "name": "stderr",
     "output_type": "stream",
     "text": [
      "/Users/briancarter1/anaconda/lib/python2.7/site-packages/numpy/core/fromnumeric.py:2499: VisibleDeprecationWarning: `rank` is deprecated; use the `ndim` attribute or function instead. To find the rank of a matrix see `numpy.linalg.matrix_rank`.\n",
      "  VisibleDeprecationWarning)\n"
     ]
    }
   ],
   "source": [
    "#Create Sparse and Dense Matrix\n",
    "from sklearn.feature_extraction.text import CountVectorizer\n",
    "countVec = CountVectorizer()\n",
    "poemSparse=countVec.fit_transform(df['Lines'])\n",
    "poemDense=pd.DataFrame(poemSparse.todense(),\n",
    "                       columns=countVec.get_feature_names())"
   ]
  },
  {
   "cell_type": "code",
   "execution_count": 3,
   "metadata": {
    "collapsed": false
   },
   "outputs": [
    {
     "name": "stdout",
     "output_type": "stream",
     "text": [
      "Dense matrix non-zero values: 30\n",
      "Sparse matrix entries: 30\n"
     ]
    }
   ],
   "source": [
    "print \"Dense matrix non-zero values:\",((poemDense!=0).sum()).sum()\n",
    "print \"Sparse matrix entries:\",len(poemSparse.data)"
   ]
  },
  {
   "cell_type": "code",
   "execution_count": 4,
   "metadata": {
    "collapsed": false
   },
   "outputs": [
    {
     "name": "stdout",
     "output_type": "stream",
     "text": [
      "Dense matrix size: 1448 bytes.\n",
      "Sparse matrix size: 464 bytes.\n"
     ]
    }
   ],
   "source": [
    "#Size of the data frame in memory is\n",
    "#values + index + column names\n",
    "print \"Dense matrix size:\",poemDense.values.nbytes + \\\n",
    "        poemDense.index.nbytes + poemDense.columns.nbytes, \"bytes.\"\n",
    "print \"Sparse matrix size:\",poemSparse.data.nbytes + \\\n",
    "        poemSparse.indptr.nbytes + poemSparse.indices.nbytes, \"bytes.\""
   ]
  }
 ],
 "metadata": {
  "kernelspec": {
   "display_name": "Python 2",
   "language": "python",
   "name": "python2"
  },
  "language_info": {
   "codemirror_mode": {
    "name": "ipython",
    "version": 2
   },
   "file_extension": ".py",
   "mimetype": "text/x-python",
   "name": "python",
   "nbconvert_exporter": "python",
   "pygments_lexer": "ipython2",
   "version": "2.7.9"
  }
 },
 "nbformat": 4,
 "nbformat_minor": 0
}
