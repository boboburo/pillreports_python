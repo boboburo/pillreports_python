{
 "metadata": {
  "name": "",
  "signature": "sha256:8cc49d7af1100f7b2fa955fcb035c6944df5e00c2078f4e41bdd4da5869f082e"
 },
 "nbformat": 3,
 "nbformat_minor": 0,
 "worksheets": [
  {
   "cells": [
    {
     "cell_type": "code",
     "collapsed": false,
     "input": [
      "#Defined Function\n",
      "def square_func (x) :\n",
      "    return x*x\n",
      "\n",
      "#Using Lambda\n",
      "square_lamb = lambda x: x*x\n",
      "\n",
      "print(square_func(5))\n",
      "print(square_lamb(5))"
     ],
     "language": "python",
     "metadata": {},
     "outputs": [
      {
       "output_type": "stream",
       "stream": "stdout",
       "text": [
        "25\n",
        "25\n"
       ]
      }
     ],
     "prompt_number": 8
    },
    {
     "cell_type": "code",
     "collapsed": false,
     "input": [],
     "language": "python",
     "metadata": {},
     "outputs": []
    }
   ],
   "metadata": {}
  }
 ]
}