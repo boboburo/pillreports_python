{
 "cells": [
  {
   "cell_type": "markdown",
   "metadata": {},
   "source": [
    "<h1>1. Version Control</h1>\n",
    "<HR WIDTH=\"100%\" size=\"6\">\n",
    "\n",
    "<p>The code in this project was developed with Python version (2.7.8). The listed libraries and their associated version numbers used during development are below. Run the code to check you have the correct libraries. Any version number higher than stated will work fine. </p>"
   ]
  },
  {
   "cell_type": "code",
   "execution_count": 1,
   "metadata": {
    "collapsed": false
   },
   "outputs": [
    {
     "name": "stdout",
     "output_type": "stream",
     "text": [
      "Python version: 2.7.9 |Anaconda 2.2.0 (x86_64)| (default, Dec 15 2014, 10:37:34) \n",
      "[GCC 4.2.1 (Apple Inc. build 5577)]\n",
      "\n",
      "4.3.2\n",
      "3.0.0\n",
      "1.4.3\n",
      "3.0.2\n",
      "1.9.2\n",
      "0.15.2\n",
      "2.2.1\n",
      "0.5.1\n",
      "0.15.2\n",
      "0.15.1\n",
      "2.7\n"
     ]
    }
   ],
   "source": [
    "import sys\n",
    "import bs4\n",
    "import IPython\n",
    "import matplotlib as mlp\n",
    "import nltk\n",
    "import numpy as np\n",
    "import pandas as pd\n",
    "import re\n",
    "import seaborn as sns\n",
    "import sklearn\n",
    "import scipy\n",
    "import urllib2\n",
    "\n",
    "\n",
    "#Versions when creating code base 01/02/2015\n",
    "#Python version 2.7.8\n",
    "\n",
    "print('Python version: {}\\n'.format(sys.version))\n",
    "\n",
    "print(bs4.__version__)       # bs4 == '4.3.1'\n",
    "print(IPython.__version__)   # IPython == '2.3.0'\n",
    "print(mlp.__version__)       # mlp == '1.3.1'\n",
    "print(nltk.__version__)      # nltk == '2.0.4'\n",
    "print(np.__version__)        # np == '1.9.1'\n",
    "print(pd.__version__)        # pd == '0.15.1'\n",
    "print(re.__version__)        # re == '2.2.1'\n",
    "print(sns.__version__)       # sns == '0.5.0'\n",
    "print(sklearn.__version__)   # sklearn == '0.14.1'\n",
    "print(scipy.__version__)     # scipy == '0.13.3'\n",
    "print(urllib2.__version__)   # urllib2 == '2.7'\n"
   ]
  }
 ],
 "metadata": {
  "kernelspec": {
   "display_name": "Python 2",
   "language": "python",
   "name": "python2"
  },
  "language_info": {
   "codemirror_mode": {
    "name": "ipython",
    "version": 2
   },
   "file_extension": ".py",
   "mimetype": "text/x-python",
   "name": "python",
   "nbconvert_exporter": "python",
   "pygments_lexer": "ipython2",
   "version": "2.7.9"
  }
 },
 "nbformat": 4,
 "nbformat_minor": 0
}
